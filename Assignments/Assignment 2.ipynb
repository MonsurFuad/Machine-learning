{
 "cells": [
  {
   "cell_type": "markdown",
   "id": "b110c696",
   "metadata": {},
   "source": [
    "# Variables"
   ]
  },
  {
   "cell_type": "markdown",
   "id": "f297e5c6",
   "metadata": {},
   "source": [
    "1. Write a program that swaps the values of two variables."
   ]
  },
  {
   "cell_type": "code",
   "execution_count": 1,
   "id": "78c0958c",
   "metadata": {},
   "outputs": [
    {
     "name": "stdout",
     "output_type": "stream",
     "text": [
      "Enter First variable: 12\n",
      "Enter Second variable: 23\n",
      "First variable after swapping:  23\n",
      "Second variable after swapping:  12\n"
     ]
    }
   ],
   "source": [
    "first_var=int(input(\"Enter First variable: \"))\n",
    "second_var=int(input(\"Enter Second variable: \"))\n",
    "\n",
    "temp_var= first_var\n",
    "first_var=second_var\n",
    "second_var=temp_var\n",
    "\n",
    "print(\"First variable after swapping: \",first_var)\n",
    "print(\"Second variable after swapping: \",second_var)"
   ]
  },
  {
   "cell_type": "markdown",
   "id": "c76ae4a6",
   "metadata": {},
   "source": [
    "2. Write a program that calculates the area of a rectangle given its length and width."
   ]
  },
  {
   "cell_type": "code",
   "execution_count": 2,
   "id": "adb94e76",
   "metadata": {},
   "outputs": [
    {
     "name": "stdout",
     "output_type": "stream",
     "text": [
      "Enter the length of the Ractangle: 10\n",
      "Enter the width of the Ractangle: 20\n",
      "The area of Ractangle is  200.0\n"
     ]
    }
   ],
   "source": [
    "length=float(input(\"Enter the length of the Ractangle: \"))\n",
    "width=float(input(\"Enter the width of the Ractangle: \"))\n",
    "\n",
    "area=length*width\n",
    "\n",
    "print(\"The area of Ractangle is \",area)"
   ]
  },
  {
   "cell_type": "markdown",
   "id": "480aaaba",
   "metadata": {},
   "source": [
    "3. Write a program that converts temperature from Fahrenheit to Celsius."
   ]
  },
  {
   "cell_type": "code",
   "execution_count": 3,
   "id": "275f44f6",
   "metadata": {},
   "outputs": [
    {
     "name": "stdout",
     "output_type": "stream",
     "text": [
      "Enter the temperature in Fahrenheit: 102\n",
      "The temperature in Celsius is  38.888888888888886\n"
     ]
    }
   ],
   "source": [
    "fahr=float(input(\"Enter the temperature in Fahrenheit: \"))\n",
    "\n",
    "cel=(fahr-32)*5/9\n",
    "\n",
    "print(\"The temperature in Celsius is \",cel)"
   ]
  },
  {
   "cell_type": "markdown",
   "id": "746c24cc",
   "metadata": {},
   "source": [
    "4. Write a program that calculates the volume of a sphere given its radius."
   ]
  },
  {
   "cell_type": "code",
   "execution_count": 4,
   "id": "778fd1ca",
   "metadata": {},
   "outputs": [
    {
     "name": "stdout",
     "output_type": "stream",
     "text": [
      "Enter the radius of the Sphere: 5\n",
      "The volume of the Sphere is  523.6\n"
     ]
    }
   ],
   "source": [
    "radius=float(input(\"Enter the radius of the Sphere: \"))\n",
    "pi=3.1416\n",
    "volume=4/3*pi*radius*radius*radius\n",
    "\n",
    "print(\"The volume of the Sphere is \", volume)\n"
   ]
  },
  {
   "cell_type": "markdown",
   "id": "5857a953",
   "metadata": {},
   "source": [
    "5. Write a program that finds the average of three numbers."
   ]
  },
  {
   "cell_type": "code",
   "execution_count": 5,
   "id": "c73d1219",
   "metadata": {},
   "outputs": [
    {
     "name": "stdout",
     "output_type": "stream",
     "text": [
      "Enter the first number: 10\n",
      "Enter the second number: 25\n",
      "Enter the third number: 50\n",
      "The average of the three numbers is  28.333333333333332\n"
     ]
    }
   ],
   "source": [
    "first_num=int(input(\"Enter the first number: \"))\n",
    "second_num=int(input(\"Enter the second number: \"))\n",
    "third_num=int(input(\"Enter the third number: \"))\n",
    "\n",
    "avg= (first_num+second_num+third_num)/3\n",
    "\n",
    "print(\"The average of the three numbers is \",avg)"
   ]
  },
  {
   "cell_type": "markdown",
   "id": "44a3497c",
   "metadata": {},
   "source": [
    "# If-elif-else"
   ]
  },
  {
   "cell_type": "markdown",
   "id": "8b69a710",
   "metadata": {},
   "source": [
    "6. Write a program that determines if a number is even or odd."
   ]
  },
  {
   "cell_type": "code",
   "execution_count": 6,
   "id": "942ab688",
   "metadata": {},
   "outputs": [
    {
     "name": "stdout",
     "output_type": "stream",
     "text": [
      "Enter the number: 15\n",
      "The number is ODD.\n"
     ]
    }
   ],
   "source": [
    "number=int(input(\"Enter the number: \"))\n",
    "\n",
    "if (number%2==0):\n",
    "    print(\"The number is EVEN.\")\n",
    "\n",
    "else:\n",
    "    print(\"The number is ODD.\")\n"
   ]
  },
  {
   "cell_type": "markdown",
   "id": "a483984e",
   "metadata": {},
   "source": [
    "7. Write a program that finds the maximum of three numbers."
   ]
  },
  {
   "cell_type": "code",
   "execution_count": 7,
   "id": "c2d1f2f0",
   "metadata": {},
   "outputs": [
    {
     "name": "stdout",
     "output_type": "stream",
     "text": [
      "Enter the first number: 10\n",
      "Enter the second number: 20\n",
      "Enter the third number: 30\n",
      "30  is the biggest number.\n"
     ]
    }
   ],
   "source": [
    "first_num=int(input(\"Enter the first number: \"))\n",
    "second_num=int(input(\"Enter the second number: \"))\n",
    "third_num=int(input(\"Enter the third number: \"))\n",
    "\n",
    "if first_num>second_num:\n",
    "    if first_num>third_num:\n",
    "        print(first_num,\" is the biggest number.\")\n",
    "    else:\n",
    "        print(third_num,\" is the biggest number.\")\n",
    "else:\n",
    "    if second_num>third_num:\n",
    "        print(second_num,\" is the biggest number.\")\n",
    "    else:\n",
    "        print(third_num,\" is the biggest number.\")"
   ]
  },
  {
   "cell_type": "markdown",
   "id": "c28aa6cd",
   "metadata": {},
   "source": [
    "8. Write a program that determines if a year is a leap year or not."
   ]
  },
  {
   "cell_type": "code",
   "execution_count": 8,
   "id": "eb2a1dfb",
   "metadata": {},
   "outputs": [
    {
     "name": "stdout",
     "output_type": "stream",
     "text": [
      "Enter the year: 2024\n",
      "2024  is a leap year.\n"
     ]
    }
   ],
   "source": [
    "year=int(input(\"Enter the year: \"))\n",
    "\n",
    "if (year%4==0 and year%100!=0) or year%400==0:\n",
    "    print(year,\" is a leap year.\")\n",
    "else:\n",
    "    print(year,\" is not a leap year.\")"
   ]
  },
  {
   "cell_type": "markdown",
   "id": "95d14921",
   "metadata": {},
   "source": [
    "9. Write a program that determines if a number is positive, negative, or zero."
   ]
  },
  {
   "cell_type": "code",
   "execution_count": 9,
   "id": "a899361b",
   "metadata": {},
   "outputs": [
    {
     "name": "stdout",
     "output_type": "stream",
     "text": [
      "Enter the number: -12\n",
      "The number is negative\n"
     ]
    }
   ],
   "source": [
    "number=int(input(\"Enter the number: \"))\n",
    "\n",
    "if number==0:\n",
    "    print(\"The number is zero.\")\n",
    "elif number>0:\n",
    "    print(\"The number is positive.\")\n",
    "else:\n",
    "    print(\"The number is negative\")"
   ]
  },
  {
   "cell_type": "markdown",
   "id": "3d0abbec",
   "metadata": {},
   "source": [
    "10. Write a program that calculates the grade based on a given percentage."
   ]
  },
  {
   "cell_type": "code",
   "execution_count": 10,
   "id": "5922359d",
   "metadata": {},
   "outputs": [
    {
     "name": "stdout",
     "output_type": "stream",
     "text": [
      "Enter your percentage: 78\n",
      "Your Grade is A.\n"
     ]
    }
   ],
   "source": [
    "percentage=int(input(\"Enter your percentage: \"))\n",
    "\n",
    "if percentage>=80:\n",
    "    print(\"Your Grade is A+.\")\n",
    "elif percentage>=70:\n",
    "    print(\"Your Grade is A.\")\n",
    "elif percentage>=60:\n",
    "    print(\"Your Grade is A-.\")\n",
    "elif percentage>=50:\n",
    "    print(\"Your Grade is B.\")\n",
    "elif percentage>=40:\n",
    "    print(\"Your Grade is C.\")\n",
    "elif percentage>=33:\n",
    "    print(\"Your Grade is D.\")\n",
    "else:\n",
    "    print(\"Your grade is F.\")"
   ]
  },
  {
   "cell_type": "markdown",
   "id": "b281bb9d",
   "metadata": {},
   "source": [
    "# For Loop"
   ]
  },
  {
   "cell_type": "markdown",
   "id": "acdcf0dc",
   "metadata": {},
   "source": [
    "11. Write a program that prints the first `n` natural numbers."
   ]
  },
  {
   "cell_type": "code",
   "execution_count": 11,
   "id": "9eb6cc21",
   "metadata": {},
   "outputs": [
    {
     "name": "stdout",
     "output_type": "stream",
     "text": [
      "Enter n: 5\n",
      "1 2 3 4 5 "
     ]
    }
   ],
   "source": [
    "n=int(input(\"Enter n: \"))\n",
    "\n",
    "for i in range(n):\n",
    "    print(i+1,end=\" \")"
   ]
  },
  {
   "cell_type": "markdown",
   "id": "cf123e8c",
   "metadata": {},
   "source": [
    "12. Write a program that calculates the factorial of a number."
   ]
  },
  {
   "cell_type": "code",
   "execution_count": 12,
   "id": "37162bcb",
   "metadata": {},
   "outputs": [
    {
     "name": "stdout",
     "output_type": "stream",
     "text": [
      "Enter n: 7\n",
      "5040\n"
     ]
    }
   ],
   "source": [
    "n= int(input(\"Enter n: \"))\n",
    "factorial=1\n",
    "for i in range(n):\n",
    "    i=i+1\n",
    "    factorial*=i\n",
    "print(factorial)"
   ]
  },
  {
   "cell_type": "markdown",
   "id": "0d8e5945",
   "metadata": {},
   "source": [
    "13. Write a program that generates a Fibonacci sequence of length `n`."
   ]
  },
  {
   "cell_type": "code",
   "execution_count": 13,
   "id": "8b294fee",
   "metadata": {},
   "outputs": [
    {
     "name": "stdout",
     "output_type": "stream",
     "text": [
      "Enter the length: 10\n",
      "0 1 1 2 3 5 8 13 21 34 "
     ]
    }
   ],
   "source": [
    "num = int(input(\"Enter the length: \"))\n",
    "n1, n2 = 0, 1\n",
    "if num == 1:\n",
    "    print(n1)\n",
    "else:\n",
    "    print(n1, n2, end=\" \")\n",
    "    for i in range(2, num):\n",
    "        n3 = n1 + n2\n",
    "        n1 = n2\n",
    "        n2 = n3\n",
    "        print(n3, end=\" \")"
   ]
  },
  {
   "cell_type": "markdown",
   "id": "53859803",
   "metadata": {},
   "source": [
    "14. Write a program that checks if a given number is prime or not."
   ]
  },
  {
   "cell_type": "code",
   "execution_count": 15,
   "id": "d6346e76",
   "metadata": {},
   "outputs": [
    {
     "name": "stdout",
     "output_type": "stream",
     "text": [
      "Enter the number: 12\n",
      "The number is not prime.\n"
     ]
    }
   ],
   "source": [
    "num = int(input(\"Enter the number: \"))\n",
    "\n",
    "if num <= 1:\n",
    "    print(\"The number is not prime.\")\n",
    "else:\n",
    "    is_prime = True\n",
    "    for i in range(2, int(num**0.5) + 1):\n",
    "        if num % i == 0:\n",
    "            is_prime = False\n",
    "            break\n",
    "    \n",
    "    if is_prime:\n",
    "        print(\"The number is prime.\")\n",
    "    else:\n",
    "        print(\"The number is not prime.\")\n"
   ]
  },
  {
   "cell_type": "markdown",
   "id": "153aff95",
   "metadata": {},
   "source": [
    "15. Write a program that prints the multiplication table of a given number."
   ]
  },
  {
   "cell_type": "code",
   "execution_count": 18,
   "id": "5c79e981",
   "metadata": {},
   "outputs": [
    {
     "name": "stdout",
     "output_type": "stream",
     "text": [
      "Enter the number: 15\n",
      "Multiplication table of  15\n",
      "15  *  1  =  15\n",
      "15  *  2  =  30\n",
      "15  *  3  =  45\n",
      "15  *  4  =  60\n",
      "15  *  5  =  75\n",
      "15  *  6  =  90\n",
      "15  *  7  =  105\n",
      "15  *  8  =  120\n",
      "15  *  9  =  135\n",
      "15  *  10  =  150\n"
     ]
    }
   ],
   "source": [
    "num = int(input(\"Enter the number: \"))\n",
    "print(\"Multiplication table of \",num)\n",
    "for i in range (1,11):\n",
    "    print(num,\" * \",i,\" = \",num*i)"
   ]
  },
  {
   "cell_type": "markdown",
   "id": "ab2cfedd",
   "metadata": {},
   "source": [
    "# While Loop"
   ]
  },
  {
   "cell_type": "markdown",
   "id": "498c53a3",
   "metadata": {},
   "source": [
    "16. Write a program that finds the sum of all even numbers between 1 and `n`."
   ]
  },
  {
   "cell_type": "code",
   "execution_count": 19,
   "id": "f799c027",
   "metadata": {},
   "outputs": [
    {
     "name": "stdout",
     "output_type": "stream",
     "text": [
      "Enter the number: 100\n",
      "The sum of the even numbers =  2550\n"
     ]
    }
   ],
   "source": [
    "num = int(input(\"Enter the number: \"))\n",
    "sum=0\n",
    "i=2\n",
    "while i<=num:\n",
    "    sum+=i\n",
    "    i+=2\n",
    "print(\"The sum of the even numbers = \",sum)"
   ]
  },
  {
   "cell_type": "markdown",
   "id": "38527c8d",
   "metadata": {},
   "source": [
    "17. Write a program that reverses a given number."
   ]
  },
  {
   "cell_type": "code",
   "execution_count": 20,
   "id": "f06694d0",
   "metadata": {},
   "outputs": [
    {
     "name": "stdout",
     "output_type": "stream",
     "text": [
      "Enter a number: 12345\n",
      "The reversed number is:  54321\n"
     ]
    }
   ],
   "source": [
    "num = int(input(\"Enter a number: \"))\n",
    "\n",
    "reverse = 0\n",
    "temp = num\n",
    "\n",
    "while temp > 0:\n",
    "    digit = temp % 10  \n",
    "    reverse = reverse * 10 + digit  \n",
    "    temp = temp//10\n",
    "\n",
    "print(\"The reversed number is: \" ,reverse)"
   ]
  },
  {
   "cell_type": "markdown",
   "id": "055e195f",
   "metadata": {},
   "source": [
    "18. Write a program that checks if a given string, is a palindrome."
   ]
  },
  {
   "cell_type": "code",
   "execution_count": 21,
   "id": "c232fdaa",
   "metadata": {},
   "outputs": [
    {
     "name": "stdout",
     "output_type": "stream",
     "text": [
      "Enter a string: MADAM\n",
      "MADAM  is a palindrome.\n"
     ]
    }
   ],
   "source": [
    "string = input(\"Enter a string: \")\n",
    "\n",
    "start = 0\n",
    "end = len(string) - 1\n",
    "\n",
    "is_palindrome = True\n",
    "\n",
    "while start < end:\n",
    "    if string[start] != string[end]: \n",
    "        is_palindrome = False  \n",
    "        break\n",
    "        \n",
    "    start += 1\n",
    "    end -= 1\n",
    "    \n",
    "if is_palindrome:\n",
    "    print(string,\" is a palindrome.\")\n",
    "else:\n",
    "    print(string,\" is not a palindrome.\")\n"
   ]
  },
  {
   "cell_type": "markdown",
   "id": "d5072930",
   "metadata": {},
   "source": [
    "19. Write a program that generates a random number and allows the user to guess it."
   ]
  },
  {
   "cell_type": "code",
   "execution_count": 22,
   "id": "78248942",
   "metadata": {},
   "outputs": [
    {
     "name": "stdout",
     "output_type": "stream",
     "text": [
      "Guess the number between 1 to 100: 50\n",
      "Too low!\n",
      "Guess the number between 1 to 100: 75\n",
      "Too low!\n",
      "Guess the number between 1 to 100: 85\n",
      "Too low!\n",
      "Guess the number between 1 to 100: 90\n",
      "Too low!\n",
      "Guess the number between 1 to 100: 95\n",
      "Too low!\n",
      "Guess the number between 1 to 100: 98\n",
      "Too low!\n",
      "Guess the number between 1 to 100: 99\n",
      "Too low!\n",
      "Guess the number between 1 to 100: 100\n",
      "COngratulations! You guessed the numnber.\n"
     ]
    }
   ],
   "source": [
    "import random\n",
    "num=random.randint(1,100)\n",
    "\n",
    "guess=None\n",
    "while guess!=num:\n",
    "    guess= int(input(\"Guess the number between 1 to 100: \"))\n",
    "    \n",
    "    if guess<num:\n",
    "        print(\"Too low!\")\n",
    "    elif guess>num:\n",
    "        print(\"Too hight!\")\n",
    "    else:\n",
    "        print(\"COngratulations! You guessed the numnber.\")"
   ]
  },
  {
   "cell_type": "markdown",
   "id": "9d01b72f",
   "metadata": {},
   "source": [
    "20. Write a program that finds the greatest common divisor (GCD) of two numbers."
   ]
  },
  {
   "cell_type": "code",
   "execution_count": 23,
   "id": "f884611d",
   "metadata": {},
   "outputs": [
    {
     "name": "stdout",
     "output_type": "stream",
     "text": [
      "Enter the first number: 100\n",
      "Enter the second number: 20\n",
      "The GCD of the given numbers is:  20\n"
     ]
    }
   ],
   "source": [
    "num1 = int(input(\"Enter the first number: \"))\n",
    "num2 = int(input(\"Enter the second number: \"))\n",
    "\n",
    "while num2 != 0:\n",
    "    remainder = num1 % num2 \n",
    "    num1 = num2 \n",
    "    num2 = remainder \n",
    "\n",
    "print(\"The GCD of the given numbers is: \",num1)\n"
   ]
  }
 ],
 "metadata": {
  "kernelspec": {
   "display_name": "Python 3 (ipykernel)",
   "language": "python",
   "name": "python3"
  },
  "language_info": {
   "codemirror_mode": {
    "name": "ipython",
    "version": 3
   },
   "file_extension": ".py",
   "mimetype": "text/x-python",
   "name": "python",
   "nbconvert_exporter": "python",
   "pygments_lexer": "ipython3",
   "version": "3.11.5"
  }
 },
 "nbformat": 4,
 "nbformat_minor": 5
}
